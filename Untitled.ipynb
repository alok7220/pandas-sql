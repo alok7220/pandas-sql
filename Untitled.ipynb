{
 "cells": [
  {
   "cell_type": "code",
   "execution_count": 6,
   "metadata": {},
   "outputs": [
    {
     "name": "stdout",
     "output_type": "stream",
     "text": [
      "From https://github.com/alok7220/pandas-sql\n",
      " * branch            master     -> FETCH_HEAD\n",
      "Already up-to-date.\n"
     ]
    }
   ],
   "source": [
    "!git pull origin master"
   ]
  },
  {
   "cell_type": "code",
   "execution_count": 9,
   "metadata": {},
   "outputs": [
    {
     "name": "stdout",
     "output_type": "stream",
     "text": [
      "\u001b7\u001b[?47h\u001b[?1h\u001b=\u001b[?2004h\u001b[1;24r\u001b[m\u001b[H\u001b[2J\u001b[24;1H\"~/SageMaker/pandas-sql/.git/COMMIT_EDITMSG\" 20L, 640C\u001b[2;1H# Please enter the commit message for your changes. Lines starting\n",
      "# with '#' will be ignored, and an empty message aborts the commit.\n",
      "#\n",
      "# Committer: EC2 Default User <ec2-user@ip-172-16-29-210.ec2.internal>\n",
      "#\n",
      "# On branch master\n",
      "# Your branch is up-to-date with 'origin/master'.\n",
      "#\n",
      "# Changes to be committed:\n",
      "#\u001b[7Cmodified:   README.md\n",
      "#\u001b[7Cmodified:   Structured_data_manipulation_script_python_pandas.ipynb\n",
      "#\u001b[7Cnew file:   Untitled.ipynb\n",
      "#\u001b[7Cmodified:   pandas_sql quering.ipynb\n",
      "#\n",
      "# Untracked files:\n",
      "#\u001b[7C.ipynb_checkpoints/README-checkpoint.md\n",
      "#\u001b[7C.ipynb_checkpoints/Untitled-checkpoint.ipynb\n",
      "#\u001b[7C.ipynb_checkpoints/pandas_sql quering-checkpoint.ipynb\n",
      "#\n",
      "\u001b[1m\u001b[34m~                                                                               \u001b[22;1H~                                                                               \u001b[23;1H~                                                                               \u001b[1;1H\u001b[m\u001b[24;1HType  :quit<Enter>  to exit Vim\u001b[24;32H\u001b[K\u0007\u001b[1;1H"
     ]
    }
   ],
   "source": [
    "!git commit -a"
   ]
  },
  {
   "cell_type": "code",
   "execution_count": 11,
   "metadata": {},
   "outputs": [],
   "source": [
    "!git add ."
   ]
  },
  {
   "cell_type": "code",
   "execution_count": 12,
   "metadata": {},
   "outputs": [
    {
     "name": "stdout",
     "output_type": "stream",
     "text": [
      "[master b457bb9] Add existing file\n",
      " Committer: EC2 Default User <ec2-user@ip-172-16-29-210.ec2.internal>\n",
      "Your name and email address were configured automatically based\n",
      "on your username and hostname. Please check that they are accurate.\n",
      "You can suppress this message by setting them explicitly:\n",
      "\n",
      "    git config --global user.name \"Your Name\"\n",
      "    git config --global user.email you@example.com\n",
      "\n",
      "After doing this, you may fix the identity used for this commit with:\n",
      "\n",
      "    git commit --amend --reset-author\n",
      "\n",
      " 7 files changed, 218 insertions(+), 34 deletions(-)\n",
      " create mode 100644 .ipynb_checkpoints/README-checkpoint.md\n",
      " create mode 100644 .ipynb_checkpoints/Untitled-checkpoint.ipynb\n",
      " create mode 100644 .ipynb_checkpoints/pandas_sql quering-checkpoint.ipynb\n",
      " create mode 100644 Untitled.ipynb\n"
     ]
    }
   ],
   "source": [
    "!git commit -m \"Add existing file\""
   ]
  },
  {
   "cell_type": "code",
   "execution_count": 13,
   "metadata": {},
   "outputs": [
    {
     "name": "stdout",
     "output_type": "stream",
     "text": [
      "Counting objects: 8, done.\n",
      "Delta compression using up to 2 threads.\n",
      "Compressing objects: 100% (8/8), done.\n",
      "Writing objects: 100% (8/8), 2.13 KiB | 2.13 MiB/s, done.\n",
      "Total 8 (delta 2), reused 0 (delta 0)\n",
      "remote: Resolving deltas: 100% (2/2), completed with 2 local objects.\u001b[K\n",
      "To https://github.com/alok7220/pandas-sql.git\n",
      "   651de41..b457bb9  master -> master\n"
     ]
    }
   ],
   "source": [
    "!git push origin master"
   ]
  },
  {
   "cell_type": "code",
   "execution_count": null,
   "metadata": {},
   "outputs": [],
   "source": []
  }
 ],
 "metadata": {
  "kernelspec": {
   "display_name": "conda_python3",
   "language": "python",
   "name": "conda_python3"
  },
  "language_info": {
   "codemirror_mode": {
    "name": "ipython",
    "version": 3
   },
   "file_extension": ".py",
   "mimetype": "text/x-python",
   "name": "python",
   "nbconvert_exporter": "python",
   "pygments_lexer": "ipython3",
   "version": "3.6.5"
  }
 },
 "nbformat": 4,
 "nbformat_minor": 4
}
